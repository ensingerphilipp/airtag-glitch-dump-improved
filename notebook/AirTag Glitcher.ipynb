{
 "cells": [
  {
   "cell_type": "code",
   "execution_count": null,
   "metadata": {},
   "outputs": [],
   "source": [
    "import serial\n",
    "import struct\n",
    "\n",
    "try:\n",
    "    ser = serial.Serial(\"/dev/tty.usbmodem0000000000001\")\n",
    "except:\n",
    "    ser = serial.Serial(\"/dev/ttyACM0\")\n",
    "\n",
    "\n",
    "def set_pulse(pulse):\n",
    "    ser.write(b\"\\x42\" + struct.pack(\"<I\", pulse))\n",
    "def set_delay(delay):\n",
    "    ser.write(b\"\\x41\" + struct.pack(\"<I\", delay))\n",
    "def glitch():\n",
    "    ser.write(b\"\\x43\")"
   ]
  },
  {
   "cell_type": "code",
   "execution_count": null,
   "metadata": {},
   "outputs": [],
   "source": [
    "set_delay(100)\n",
    "set_pulse(24)"
   ]
  },
  {
   "cell_type": "code",
   "execution_count": null,
   "metadata": {},
   "outputs": [],
   "source": [
    "import subprocess\n",
    "def test_jtag():\n",
    "    try:\n",
    "        subprocess.check_output(['openocd', '-f', 'interface/jlink.cfg', '-c', 'transport select swd', '-f', 'testnrf.cfg', '-c', 'init;dump_image nrf52_dumped2.bin 0x0 0x1000; exit'], stderr=subprocess.STDOUT)\n",
    "        return True\n",
    "    except:\n",
    "        pass\n",
    "    return False"
   ]
  },
  {
   "cell_type": "code",
   "execution_count": null,
   "metadata": {},
   "outputs": [],
   "source": []
  },
  {
   "cell_type": "code",
   "execution_count": null,
   "metadata": {},
   "outputs": [],
   "source": [
    "import time\n",
    "import sys\n",
    "from tqdm.notebook import trange, tqdm\n",
    "\n",
    "while True:\n",
    "\n",
    "    for delay in trange(63000, 84000):\n",
    "        set_delay(delay)\n",
    "        for pulse in range(7, 9):\n",
    "            set_pulse(pulse)\n",
    "\n",
    "            glitch()\n",
    "            time.sleep(0.05)\n",
    "            if test_jtag():\n",
    "                print(\"SUCCESS\")\n",
    "                sys.exit(0)"
   ]
  },
  {
   "cell_type": "code",
   "execution_count": null,
   "metadata": {},
   "outputs": [],
   "source": []
  }
 ],
 "metadata": {
  "kernelspec": {
   "display_name": "Python 3",
   "language": "python",
   "name": "python3"
  },
  "language_info": {
   "codemirror_mode": {
    "name": "ipython",
    "version": 3
   },
   "file_extension": ".py",
   "mimetype": "text/x-python",
   "name": "python",
   "nbconvert_exporter": "python",
   "pygments_lexer": "ipython3",
   "version": "3.9.6"
  }
 },
 "nbformat": 4,
 "nbformat_minor": 4
}
