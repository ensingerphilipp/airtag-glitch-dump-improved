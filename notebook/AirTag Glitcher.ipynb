{
 "cells": [
  {
   "cell_type": "markdown",
   "metadata": {},
   "source": [
    "### Imports"
   ]
  },
  {
   "cell_type": "code",
   "execution_count": null,
   "metadata": {},
   "outputs": [],
   "source": [
    "import serial\n",
    "import struct\n",
    "import subprocess\n",
    "import time\n",
    "import sys\n",
    "from tqdm.notebook import trange, tqdm"
   ]
  },
  {
   "cell_type": "markdown",
   "metadata": {},
   "source": [
    "### Setting up environment and commands"
   ]
  },
  {
   "cell_type": "code",
   "execution_count": null,
   "metadata": {},
   "outputs": [],
   "source": [
    "try:\n",
    "    ser = serial.Serial(\"/dev/tty.usbmodem0000000000001\")\n",
    "except:\n",
    "    ser = serial.Serial(\"/dev/ttyACM0\")\n",
    "\n",
    "\n",
    "def set_pulse(pulse):\n",
    "    ser.write(b\"\\x42\" + struct.pack(\"<I\", pulse))\n",
    "def set_delay(delay):\n",
    "    ser.write(b\"\\x41\" + struct.pack(\"<I\", delay))\n",
    "def glitch():\n",
    "    ser.write(b\"\\x43\")\n",
    "def powerup():\n",
    "    ser.write(b\"\\x44\")\n",
    "def powerdown():\n",
    "    ser.write(b\"\\x45\")"
   ]
  },
  {
   "cell_type": "markdown",
   "metadata": {},
   "source": [
    "### Function that tests for succesful debug swd connection"
   ]
  },
  {
   "cell_type": "code",
   "execution_count": null,
   "metadata": {},
   "outputs": [],
   "source": [
    "def test_swd():\n",
    "    try:\n",
    "        subprocess.check_output(['openocd', '-f', 'interface/jlink.cfg', '-c', 'transport select swd', '-f', 'testnrf.cfg', '-c', 'init;dump_image partial_test_dump.bin 0x0 0x1000; exit'], stderr=subprocess.STDOUT)\n",
    "        return True\n",
    "    except:\n",
    "        pass\n",
    "    return False"
   ]
  },
  {
   "cell_type": "markdown",
   "metadata": {},
   "source": [
    "### Test Powerup of Airtag"
   ]
  },
  {
   "cell_type": "code",
   "execution_count": null,
   "metadata": {},
   "outputs": [],
   "source": [
    "powerup()"
   ]
  },
  {
   "cell_type": "markdown",
   "metadata": {},
   "source": [
    "### Test Powerdown of Airtag"
   ]
  },
  {
   "cell_type": "code",
   "execution_count": null,
   "metadata": {},
   "outputs": [],
   "source": [
    "powerdown()"
   ]
  },
  {
   "cell_type": "markdown",
   "metadata": {},
   "source": [
    "## Run the Glitch!\n",
    "\n",
    "Adjust the range of Delay accordingly"
   ]
  },
  {
   "cell_type": "code",
   "execution_count": null,
   "metadata": {},
   "outputs": [],
   "source": [
    "while True:\n",
    "    for delay in trange(72500, 74000):\n",
    "        set_delay(delay)\n",
    "        for pulse in range(7, 9):\n",
    "            set_pulse(pulse)\n",
    "            glitch()\n",
    "            time.sleep(0.05)\n",
    "            if test_swd():\n",
    "                print(\"Glitch successful - swd debug activated (APProtect disabled until powercycle)\")\n",
    "                sys.exit(0)"
   ]
  }
 ],
 "metadata": {
  "kernelspec": {
   "display_name": "Python 3",
   "language": "python",
   "name": "python3"
  },
  "language_info": {
   "codemirror_mode": {
    "name": "ipython",
    "version": 3
   },
   "file_extension": ".py",
   "mimetype": "text/x-python",
   "name": "python",
   "nbconvert_exporter": "python",
   "pygments_lexer": "ipython3",
   "version": "3.9.6"
  }
 },
 "nbformat": 4,
 "nbformat_minor": 4
}
